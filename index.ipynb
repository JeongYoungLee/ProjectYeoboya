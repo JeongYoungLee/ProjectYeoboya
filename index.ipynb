{
 "cells": [
  {
   "cell_type": "markdown",
   "metadata": {},
   "source": [
    "# 여보야 서버"
   ]
  },
  {
   "cell_type": "code",
   "execution_count": 33,
   "metadata": {},
   "outputs": [
    {
     "name": "stdout",
     "output_type": "stream",
     "text": [
      "Requirement already satisfied: cx_Oracle in c:\\users\\gjaischool-47\\appdata\\local\\programs\\python\\python38\\lib\\site-packages (8.3.0)Note: you may need to restart the kernel to use updated packages.\n",
      "\n"
     ]
    }
   ],
   "source": [
    "pip install cx_Oracle"
   ]
  },
  {
   "cell_type": "code",
   "execution_count": 2,
   "metadata": {},
   "outputs": [
    {
     "name": "stdout",
     "output_type": "stream",
     "text": [
      " * Serving Flask app '__main__'\n",
      " * Debug mode: off\n"
     ]
    },
    {
     "name": "stderr",
     "output_type": "stream",
     "text": [
      "WARNING: This is a development server. Do not use it in a production deployment. Use a production WSGI server instead.\n",
      " * Running on http://192.168.21.158:5341\n",
      "Press CTRL+C to quit\n"
     ]
    },
    {
     "name": "stdout",
     "output_type": "stream",
     "text": [
      "회원가입 요청\n"
     ]
    },
    {
     "name": "stderr",
     "output_type": "stream",
     "text": [
      "192.168.21.158 - - [12/Dec/2022 18:20:39] \"POST /join HTTP/1.1\" 200 -\n"
     ]
    },
    {
     "name": "stdout",
     "output_type": "stream",
     "text": [
      "회원정보 : 1234,ben1111@naver.com,Ben1111,남,1999-5-24\n",
      "로그인 시도\n"
     ]
    },
    {
     "name": "stderr",
     "output_type": "stream",
     "text": [
      "192.168.21.158 - - [12/Dec/2022 18:21:46] \"POST /login HTTP/1.1\" 200 -\n"
     ]
    },
    {
     "name": "stdout",
     "output_type": "stream",
     "text": [
      "[(10, 'ben1111@naver.com', '1234', 'Ben1111', '남', datetime.datetime(1999, 5, 24, 0, 0), datetime.datetime(2022, 12, 12, 9, 20, 38))]\n",
      "로그인 완료\n"
     ]
    }
   ],
   "source": [
    "from pdb import post_mortem\n",
    "from queue import Empty\n",
    "from unicodedata import name\n",
    "from unittest import result\n",
    "from flask import Flask, render_template, redirect, request, url_for, session\n",
    "import cx_Oracle as db\n",
    "import pickle\n",
    "#from sklearn.feature_extraction.text import CountVectorizer\n",
    "import plotly.express as px\n",
    "import pandas as pd\n",
    "import re\n",
    "import numpy as np\n",
    "import pandas as pd\n",
    "import matplotlib.pyplot as plt\n",
    "\n",
    "from tqdm import tqdm\n",
    "import time\n",
    "\n",
    "from hanspell import spell_checker\n",
    "from pykospacing import Spacing\n",
    "import googletrans\n",
    "from googletrans import Translator\n",
    "\n",
    "spacing = Spacing()\n",
    "translator = Translator()\n",
    "\n",
    "cEXT = pickle.load( open( \"model/cEXT.p\", \"rb\"))\n",
    "cNEU = pickle.load( open( \"model/cNEU.p\", \"rb\"))\n",
    "cAGR = pickle.load( open( \"model/cAGR.p\", \"rb\"))\n",
    "cCON = pickle.load( open( \"model/cCON.p\", \"rb\"))\n",
    "cOPN = pickle.load( open( \"model/cOPN.p\", \"rb\"))\n",
    "vectorizer_31 = pickle.load( open( \"model/vectorizer_31.p\", \"rb\"))\n",
    "vectorizer_30 = pickle.load( open( \"model/vectorizer_30.p\", \"rb\"))\n",
    "\n",
    "app = Flask(__name__)\n",
    "\n",
    "db_id = 'vis'\n",
    "db_pw = 'gjvis4444'\n",
    "url = 'project-db-stu.ddns.net:1524/xe'\n",
    "\n",
    "app.secret_key = \"vis\"\n",
    "\n",
    "@app.route('/')\n",
    "def main():\n",
    "    conn = db.connect(db_id, db_pw, url)\n",
    "    curs = conn.cursor()\n",
    "    \n",
    "    sql = \"select * from user_t\"\n",
    "    curs.execute(sql)\n",
    "    result = curs.fetchall()\n",
    "    print(result)\n",
    "    curs.close()\n",
    "    conn.close()\n",
    "    return print('통신 확인 완료')\n",
    "\n",
    "@app.route('/login', methods=['POST'])\n",
    "def login():\n",
    "    if request.method == 'POST':\n",
    "        print('로그인 시도')\n",
    "        mail = request.form['mail']\n",
    "        pw = request.form['pw']\n",
    "        \n",
    "        conn = db.connect(db_id, db_pw, url)\n",
    "        curs = conn.cursor()\n",
    "        \n",
    "        sql = \"select * from user_t where (user_mail = :1) and (user_pw = :2)\"\n",
    "        curs.execute(sql,(mail,pw))\n",
    "        result = curs.fetchall()\n",
    "        print(result)\n",
    "        curs.close()\n",
    "        conn.close()\n",
    "        print('로그인 완료')\n",
    "        return result\n",
    "\n",
    "@app.route('/join', methods=['POST'])\n",
    "def join():\n",
    "    print('회원가입 요청')\n",
    "    if request.method == 'POST':\n",
    "        #id = request.form['id']\n",
    "        pw = request.form['pw']\n",
    "        email = request.form['email']\n",
    "        nick = request.form['nick']\n",
    "        birth = request.form['birth']\n",
    "        gender = request.form['gender']\n",
    "        \n",
    "        conn = db.connect(db_id, db_pw, url)\n",
    "        curs = conn.cursor()\n",
    "        \n",
    "        sql = \"insert into user_t values (user_t_seq.nextval,:1,:2,:3,:4,:5,sysdate)\"\n",
    "        curs.execute(sql,(email,pw,nick,gender,birth))\n",
    "        conn.commit()\n",
    "        curs.close()\n",
    "        conn.close()\n",
    "        print(f'회원정보 : {pw},{email},{nick},{gender},{birth}')\n",
    "        return '가입 완료'\n",
    "\n",
    "@app.route('/personality', methods = ['GET', 'POST'])\n",
    "def predict_personality(text):\n",
    "    scentences = re.split(\"(?<=[.!?]) +\", text)\n",
    "    text_vector_31 = vectorizer_31.transform(scentences)\n",
    "    text_vector_30 = vectorizer_30.transform(scentences)\n",
    "\n",
    "    EXT1 = cEXT.predict_proba(text_vector_31)\n",
    "    NEU1 = cNEU.predict_proba(text_vector_30)\n",
    "    AGR1 = cAGR.predict_proba(text_vector_31)\n",
    "    CON1 = cCON.predict_proba(text_vector_31)\n",
    "    OPN1 = cOPN.predict_proba(text_vector_31)\n",
    "\n",
    "    return [EXT1[0][1], NEU1[0][1], AGR1[0][1], CON1[0][1], OPN1[0][1]*0.8]\n",
    "\n",
    "@app.route('/processing', methods = ['GET', 'POST'])\n",
    "def processing(sentence):\n",
    "    try:\n",
    "        # 한글, 공백만 추출\n",
    "        sentence = sentence.replace(\"[^ㄱ-ㅎㅏ-ㅣ가-힣 ]\",\"\")\n",
    "        # 표준어\n",
    "        intrd_spell = spell_checker.check(sentence)\n",
    "        sentence = intrd_spell.checked\n",
    "        # 띄어쓰기\n",
    "        sentence = spacing(sentence)\n",
    "        # 영어번역\n",
    "        sentence = translator.translate(sentence, src='ko', dest='en').text\n",
    "        return sentence\n",
    "    except:\n",
    "        pass\n",
    "if __name__ == '__main__':\n",
    "    app.run(host='192.168.21.158', port=5341)"
   ]
  },
  {
   "cell_type": "code",
   "execution_count": 1,
   "metadata": {},
   "outputs": [
    {
     "name": "stdout",
     "output_type": "stream",
     "text": [
      " * Serving Flask app '__main__'\n",
      " * Debug mode: off\n"
     ]
    },
    {
     "name": "stderr",
     "output_type": "stream",
     "text": [
      "WARNING: This is a development server. Do not use it in a production deployment. Use a production WSGI server instead.\n",
      " * Running on http://192.168.21.158:9354\n",
      "Press CTRL+C to quit\n"
     ]
    },
    {
     "name": "stdout",
     "output_type": "stream",
     "text": [
      "로그인 시도\n"
     ]
    },
    {
     "name": "stderr",
     "output_type": "stream",
     "text": [
      "[2022-12-12 08:00:12,308] ERROR in app: Exception on /login [POST]\n",
      "Traceback (most recent call last):\n",
      "  File \"c:\\Users\\gjaischool-47\\AppData\\Local\\Programs\\Python\\Python38\\lib\\site-packages\\flask\\app.py\", line 2525, in wsgi_app\n",
      "    response = self.full_dispatch_request()\n",
      "  File \"c:\\Users\\gjaischool-47\\AppData\\Local\\Programs\\Python\\Python38\\lib\\site-packages\\flask\\app.py\", line 1823, in full_dispatch_request\n",
      "    return self.finalize_request(rv)\n",
      "  File \"c:\\Users\\gjaischool-47\\AppData\\Local\\Programs\\Python\\Python38\\lib\\site-packages\\flask\\app.py\", line 1842, in finalize_request\n",
      "    response = self.make_response(rv)\n",
      "  File \"c:\\Users\\gjaischool-47\\AppData\\Local\\Programs\\Python\\Python38\\lib\\site-packages\\flask\\app.py\", line 2134, in make_response\n",
      "    raise TypeError(\n",
      "TypeError: The view function for 'login' did not return a valid response. The function either returned None or ended without a return statement.\n",
      "192.168.21.158 - - [12/Dec/2022 08:00:12] \"POST /login HTTP/1.1\" 500 -\n"
     ]
    },
    {
     "name": "stdout",
     "output_type": "stream",
     "text": [
      "[(1, 'mail', '1234', 'nick', 'm', datetime.datetime(1994, 4, 9, 0, 0), datetime.datetime(2022, 12, 8, 8, 3, 30))]\n",
      "로그인 완료\n",
      "로그인 시도\n"
     ]
    },
    {
     "name": "stderr",
     "output_type": "stream",
     "text": [
      "[2022-12-12 08:25:12,965] ERROR in app: Exception on /login [POST]\n",
      "Traceback (most recent call last):\n",
      "  File \"c:\\Users\\gjaischool-47\\AppData\\Local\\Programs\\Python\\Python38\\lib\\site-packages\\flask\\app.py\", line 2525, in wsgi_app\n",
      "    response = self.full_dispatch_request()\n",
      "  File \"c:\\Users\\gjaischool-47\\AppData\\Local\\Programs\\Python\\Python38\\lib\\site-packages\\flask\\app.py\", line 1823, in full_dispatch_request\n",
      "    return self.finalize_request(rv)\n",
      "  File \"c:\\Users\\gjaischool-47\\AppData\\Local\\Programs\\Python\\Python38\\lib\\site-packages\\flask\\app.py\", line 1842, in finalize_request\n",
      "    response = self.make_response(rv)\n",
      "  File \"c:\\Users\\gjaischool-47\\AppData\\Local\\Programs\\Python\\Python38\\lib\\site-packages\\flask\\app.py\", line 2134, in make_response\n",
      "    raise TypeError(\n",
      "TypeError: The view function for 'login' did not return a valid response. The function either returned None or ended without a return statement.\n",
      "192.168.21.158 - - [12/Dec/2022 08:25:12] \"POST /login HTTP/1.1\" 500 -\n"
     ]
    },
    {
     "name": "stdout",
     "output_type": "stream",
     "text": [
      "[(1, 'mail', '1234', 'nick', 'm', datetime.datetime(1994, 4, 9, 0, 0), datetime.datetime(2022, 12, 8, 8, 3, 30))]\n",
      "로그인 완료\n"
     ]
    },
    {
     "name": "stderr",
     "output_type": "stream",
     "text": [
      "192.168.21.158 - - [12/Dec/2022 08:26:19] \"GET /login HTTP/1.1\" 405 -\n",
      "192.168.21.158 - - [12/Dec/2022 08:26:19] \"GET /favicon.ico HTTP/1.1\" 404 -\n",
      "192.168.21.158 - - [12/Dec/2022 08:27:43] \"GET /login HTTP/1.1\" 405 -\n"
     ]
    },
    {
     "name": "stdout",
     "output_type": "stream",
     "text": [
      "로그인 시도\n"
     ]
    },
    {
     "name": "stderr",
     "output_type": "stream",
     "text": [
      "[2022-12-12 09:24:31,284] ERROR in app: Exception on /login [POST]\n",
      "Traceback (most recent call last):\n",
      "  File \"c:\\Users\\gjaischool-47\\AppData\\Local\\Programs\\Python\\Python38\\lib\\site-packages\\flask\\app.py\", line 2525, in wsgi_app\n",
      "    response = self.full_dispatch_request()\n",
      "  File \"c:\\Users\\gjaischool-47\\AppData\\Local\\Programs\\Python\\Python38\\lib\\site-packages\\flask\\app.py\", line 1823, in full_dispatch_request\n",
      "    return self.finalize_request(rv)\n",
      "  File \"c:\\Users\\gjaischool-47\\AppData\\Local\\Programs\\Python\\Python38\\lib\\site-packages\\flask\\app.py\", line 1842, in finalize_request\n",
      "    response = self.make_response(rv)\n",
      "  File \"c:\\Users\\gjaischool-47\\AppData\\Local\\Programs\\Python\\Python38\\lib\\site-packages\\flask\\app.py\", line 2134, in make_response\n",
      "    raise TypeError(\n",
      "TypeError: The view function for 'login' did not return a valid response. The function either returned None or ended without a return statement.\n",
      "192.168.21.158 - - [12/Dec/2022 09:24:31] \"POST /login HTTP/1.1\" 500 -\n"
     ]
    },
    {
     "name": "stdout",
     "output_type": "stream",
     "text": [
      "[(1, 'mail', '1234', 'nick', 'm', datetime.datetime(1994, 4, 9, 0, 0), datetime.datetime(2022, 12, 8, 8, 3, 30))]\n",
      "로그인 완료\n"
     ]
    }
   ],
   "source": [
    "from pdb import post_mortem\n",
    "from queue import Empty\n",
    "from unicodedata import name\n",
    "from unittest import result\n",
    "from flask import Flask, render_template, redirect, request, url_for, session\n",
    "import cx_Oracle as db\n",
    "\n",
    "app = Flask(__name__)\n",
    "\n",
    "db_id = 'vis'\n",
    "db_pw = 'gjvis4444'\n",
    "url = 'project-db-stu.ddns.net:1524/xe'\n",
    "\n",
    "#app.secret_key = \"vis2\"\n",
    "\n",
    "@app.route('/')\n",
    "def main():\n",
    "    return print('main')\n",
    "    \n",
    "@app.route('/img', methods=['GET'])\n",
    "def img():\n",
    "    \n",
    "    return render_template('page-login.html',data_list = [\"sss.png\"])\n",
    "    \n",
    "@app.route('/login', methods=['POST'])\n",
    "def login():\n",
    "    print('로그인 시도')\n",
    "\n",
    "    if request.method == 'POST':\n",
    "        id = request.form['id']\n",
    "        pw = request.form['pw']\n",
    "        \n",
    "        conn = db.connect(db_id, db_pw, url)\n",
    "        curs = conn.cursor()\n",
    "        \n",
    "        sql = \"select * from user_t where (user_mail = :1) and (user_pw = :2)\"\n",
    "        curs.execute(sql,(id,pw))\n",
    "        result = curs.fetchall()\n",
    "        print(result)\n",
    "        curs.close()\n",
    "        conn.close()\n",
    "    return print('로그인 완료')\n",
    "\n",
    "@app.route('/join', methods=['POST'])\n",
    "def join():\n",
    "    print('회원가입 요청')\n",
    "    id = request.form['id']\n",
    "    pw = request.form['pw']\n",
    "    email = request.form['email']\n",
    "    nick = request.form['nick']\n",
    "    birth = request.form['birth']\n",
    "    gender = request.form['gender']\n",
    "    \n",
    "    conn = db.connect(db_id, db_pw, url)\n",
    "    curs = conn.cursor()\n",
    "    \n",
    "    sql = \"insert into user_t values (user_t_seq.nextval,:1,:2,:3,:4,:5,sysdate)\"\n",
    "    curs.execute(sql,(email,pw,nick,gender,birth))\n",
    "    conn.commit()\n",
    "    curs.close()\n",
    "    conn.close()\n",
    "    print(f'회원정보 : {id},{pw},{name},{nick},{birth},{email},{gender}')\n",
    "    return '가입 완료'\n",
    "\n",
    "\n",
    "\n",
    "if __name__ == '__main__':\n",
    "    app.run(host='192.168.21.158', port=9354)"
   ]
  },
  {
   "cell_type": "markdown",
   "metadata": {},
   "source": []
  }
 ],
 "metadata": {
  "kernelspec": {
   "display_name": "Python 3.8.0 64-bit",
   "language": "python",
   "name": "python3"
  },
  "language_info": {
   "codemirror_mode": {
    "name": "ipython",
    "version": 3
   },
   "file_extension": ".py",
   "mimetype": "text/x-python",
   "name": "python",
   "nbconvert_exporter": "python",
   "pygments_lexer": "ipython3",
   "version": "3.8.0"
  },
  "orig_nbformat": 4,
  "vscode": {
   "interpreter": {
    "hash": "d7ece2ef50a79da61567975763f326ac65168f402da275288220c43793e45879"
   }
  }
 },
 "nbformat": 4,
 "nbformat_minor": 2
}
